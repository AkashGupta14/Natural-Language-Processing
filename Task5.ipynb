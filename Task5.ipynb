{
 "cells": [
  {
   "cell_type": "code",
   "execution_count": 1,
   "metadata": {},
   "outputs": [],
   "source": [
    "from sklearn.feature_extraction.text import CountVectorizer\n",
    "vect = CountVectorizer(binary = True)"
   ]
  },
  {
   "cell_type": "code",
   "execution_count": 8,
   "metadata": {},
   "outputs": [],
   "source": [
    "corpus = [\"On 26th December 2004, the Indian Ocean was hit by tsunamis which are considered to be the most catastrophic in the living memory of the inhabitants of the coastal areas of this ocean. It was caused by a severe earthquake which measured 8.9 on the Richter scale. Seismologists at Northwestern University in Illinois later upgraded the earthquake to magnitude 9.3 on Richter scale. This is perhaps the highest magnitude for any earthquake ever recorded anywhere in the world. This earthquake had its epicentre off the coast of Sumatra (Indonesia) at 3.5° north latitude and 95° east longitude. This place happens to be at the tri-junction of the Indian, Australian and Burmese (Myanmarese) plates. The earthquake was triggered by the collision of the Indian plate with Burmese plate. It occurred at the point where the Indian plate subducts below the Burmese plate due to the northward movement of the Indian plate (Fig. 8.8). Seismologists have noted a 15 metre slip in the vertical direction along the crack that is about 1000 km long extending upto Andaman and Nicobar Islands in the northern direction.\"]"
   ]
  },
  {
   "cell_type": "code",
   "execution_count": 9,
   "metadata": {},
   "outputs": [
    {
     "data": {
      "text/plain": [
       "CountVectorizer(binary=True)"
      ]
     },
     "execution_count": 9,
     "metadata": {},
     "output_type": "execute_result"
    }
   ],
   "source": [
    "vect.fit(corpus)"
   ]
  },
  {
   "cell_type": "code",
   "execution_count": 10,
   "metadata": {},
   "outputs": [],
   "source": [
    "vocab = vect.vocabulary_"
   ]
  },
  {
   "cell_type": "code",
   "execution_count": 11,
   "metadata": {},
   "outputs": [
    {
     "name": "stdout",
     "output_type": "stream",
     "text": [
      "1000:0\n",
      "15:1\n",
      "2004:2\n",
      "26th:3\n",
      "95:4\n",
      "about:5\n",
      "along:6\n",
      "and:7\n",
      "andaman:8\n",
      "any:9\n",
      "anywhere:10\n",
      "are:11\n",
      "areas:12\n",
      "at:13\n",
      "australian:14\n",
      "be:15\n",
      "below:16\n",
      "burmese:17\n",
      "by:18\n",
      "catastrophic:19\n",
      "caused:20\n",
      "coast:21\n",
      "coastal:22\n",
      "collision:23\n",
      "considered:24\n",
      "crack:25\n",
      "december:26\n",
      "direction:27\n",
      "due:28\n",
      "earthquake:29\n",
      "east:30\n",
      "epicentre:31\n",
      "ever:32\n",
      "extending:33\n",
      "fig:34\n",
      "for:35\n",
      "had:36\n",
      "happens:37\n",
      "have:38\n",
      "highest:39\n",
      "hit:40\n",
      "illinois:41\n",
      "in:42\n",
      "indian:43\n",
      "indonesia:44\n",
      "inhabitants:45\n",
      "is:46\n",
      "islands:47\n",
      "it:48\n",
      "its:49\n",
      "junction:50\n",
      "km:51\n",
      "later:52\n",
      "latitude:53\n",
      "living:54\n",
      "long:55\n",
      "longitude:56\n",
      "magnitude:57\n",
      "measured:58\n",
      "memory:59\n",
      "metre:60\n",
      "most:61\n",
      "movement:62\n",
      "myanmarese:63\n",
      "nicobar:64\n",
      "north:65\n",
      "northern:66\n",
      "northward:67\n",
      "northwestern:68\n",
      "noted:69\n",
      "occurred:70\n",
      "ocean:71\n",
      "of:72\n",
      "off:73\n",
      "on:74\n",
      "perhaps:75\n",
      "place:76\n",
      "plate:77\n",
      "plates:78\n",
      "point:79\n",
      "recorded:80\n",
      "richter:81\n",
      "scale:82\n",
      "seismologists:83\n",
      "severe:84\n",
      "slip:85\n",
      "subducts:86\n",
      "sumatra:87\n",
      "that:88\n",
      "the:89\n",
      "this:90\n",
      "to:91\n",
      "tri:92\n",
      "triggered:93\n",
      "tsunamis:94\n",
      "university:95\n",
      "upgraded:96\n",
      "upto:97\n",
      "vertical:98\n",
      "was:99\n",
      "where:100\n",
      "which:101\n",
      "with:102\n",
      "world:103\n"
     ]
    }
   ],
   "source": [
    "for key in sorted(vocab.keys()):\n",
    "    print(\"{}:{}\".format(key,vocab[key]))"
   ]
  },
  {
   "cell_type": "code",
   "execution_count": 12,
   "metadata": {},
   "outputs": [
    {
     "data": {
      "text/plain": [
       "array([[0, 0, 0, 0, 0, 0, 0, 0, 0, 0, 0, 0, 0, 0, 0, 0, 0, 0, 1, 0, 0, 0,\n",
       "        0, 0, 0, 0, 0, 0, 0, 0, 0, 0, 0, 0, 0, 0, 0, 0, 0, 0, 1, 0, 0, 1,\n",
       "        0, 0, 0, 0, 0, 0, 0, 0, 0, 0, 0, 0, 0, 0, 0, 0, 0, 0, 0, 0, 0, 0,\n",
       "        0, 0, 0, 0, 0, 1, 0, 0, 0, 0, 0, 0, 0, 0, 0, 0, 0, 0, 0, 0, 0, 0,\n",
       "        0, 0, 0, 0, 0, 0, 1, 0, 0, 0, 0, 1, 0, 0, 0, 0]], dtype=int64)"
      ]
     },
     "execution_count": 12,
     "metadata": {},
     "output_type": "execute_result"
    }
   ],
   "source": [
    "vect.transform([\"Indian Ocean was hit by tsunamis\"]).toarray()"
   ]
  },
  {
   "cell_type": "code",
   "execution_count": 14,
   "metadata": {},
   "outputs": [],
   "source": [
    "from sklearn.metrics.pairwise import cosine_similarity\n",
    "similarity = cosine_similarity(vect.transform([\"Indian Ocean was hit by tsunamis\"]).toarray(),\n",
    " vect.transform([\"The Indian Ocean experienced tsunamis.\"]).toarray())"
   ]
  },
  {
   "cell_type": "code",
   "execution_count": 15,
   "metadata": {},
   "outputs": [
    {
     "name": "stdout",
     "output_type": "stream",
     "text": [
      "[[0.61237244]]\n"
     ]
    }
   ],
   "source": [
    "print(similarity)"
   ]
  },
  {
   "cell_type": "code",
   "execution_count": 16,
   "metadata": {},
   "outputs": [],
   "source": [
    "from sklearn.feature_extraction.text import TfidfVectorizer\n",
    "tfidf = TfidfVectorizer(binary=True)"
   ]
  },
  {
   "cell_type": "code",
   "execution_count": 17,
   "metadata": {},
   "outputs": [
    {
     "data": {
      "text/plain": [
       "TfidfVectorizer(binary=True)"
      ]
     },
     "execution_count": 17,
     "metadata": {},
     "output_type": "execute_result"
    }
   ],
   "source": [
    "tfidf.fit(corpus)"
   ]
  },
  {
   "cell_type": "code",
   "execution_count": 18,
   "metadata": {},
   "outputs": [],
   "source": [
    "voc = tfidf.vocabulary_"
   ]
  },
  {
   "cell_type": "code",
   "execution_count": 19,
   "metadata": {},
   "outputs": [
    {
     "name": "stdout",
     "output_type": "stream",
     "text": [
      "1000:0\n",
      "15:1\n",
      "2004:2\n",
      "26th:3\n",
      "95:4\n",
      "about:5\n",
      "along:6\n",
      "and:7\n",
      "andaman:8\n",
      "any:9\n",
      "anywhere:10\n",
      "are:11\n",
      "areas:12\n",
      "at:13\n",
      "australian:14\n",
      "be:15\n",
      "below:16\n",
      "burmese:17\n",
      "by:18\n",
      "catastrophic:19\n",
      "caused:20\n",
      "coast:21\n",
      "coastal:22\n",
      "collision:23\n",
      "considered:24\n",
      "crack:25\n",
      "december:26\n",
      "direction:27\n",
      "due:28\n",
      "earthquake:29\n",
      "east:30\n",
      "epicentre:31\n",
      "ever:32\n",
      "extending:33\n",
      "fig:34\n",
      "for:35\n",
      "had:36\n",
      "happens:37\n",
      "have:38\n",
      "highest:39\n",
      "hit:40\n",
      "illinois:41\n",
      "in:42\n",
      "indian:43\n",
      "indonesia:44\n",
      "inhabitants:45\n",
      "is:46\n",
      "islands:47\n",
      "it:48\n",
      "its:49\n",
      "junction:50\n",
      "km:51\n",
      "later:52\n",
      "latitude:53\n",
      "living:54\n",
      "long:55\n",
      "longitude:56\n",
      "magnitude:57\n",
      "measured:58\n",
      "memory:59\n",
      "metre:60\n",
      "most:61\n",
      "movement:62\n",
      "myanmarese:63\n",
      "nicobar:64\n",
      "north:65\n",
      "northern:66\n",
      "northward:67\n",
      "northwestern:68\n",
      "noted:69\n",
      "occurred:70\n",
      "ocean:71\n",
      "of:72\n",
      "off:73\n",
      "on:74\n",
      "perhaps:75\n",
      "place:76\n",
      "plate:77\n",
      "plates:78\n",
      "point:79\n",
      "recorded:80\n",
      "richter:81\n",
      "scale:82\n",
      "seismologists:83\n",
      "severe:84\n",
      "slip:85\n",
      "subducts:86\n",
      "sumatra:87\n",
      "that:88\n",
      "the:89\n",
      "this:90\n",
      "to:91\n",
      "tri:92\n",
      "triggered:93\n",
      "tsunamis:94\n",
      "university:95\n",
      "upgraded:96\n",
      "upto:97\n",
      "vertical:98\n",
      "was:99\n",
      "where:100\n",
      "which:101\n",
      "with:102\n",
      "world:103\n"
     ]
    }
   ],
   "source": [
    "for key in sorted(voc.keys()):\n",
    "    print(\"{}:{}\".format(key,voc[key]))"
   ]
  },
  {
   "cell_type": "code",
   "execution_count": 20,
   "metadata": {},
   "outputs": [
    {
     "data": {
      "text/plain": [
       "array([[0.        , 0.        , 0.        , 0.        , 0.        ,\n",
       "        0.        , 0.        , 0.        , 0.        , 0.        ,\n",
       "        0.        , 0.        , 0.57735027, 0.        , 0.        ,\n",
       "        0.        , 0.        , 0.        , 0.        , 0.        ,\n",
       "        0.        , 0.        , 0.        , 0.        , 0.        ,\n",
       "        0.        , 0.        , 0.        , 0.        , 0.        ,\n",
       "        0.        , 0.        , 0.        , 0.        , 0.        ,\n",
       "        0.        , 0.        , 0.        , 0.        , 0.        ,\n",
       "        0.        , 0.        , 0.        , 0.        , 0.        ,\n",
       "        0.        , 0.        , 0.        , 0.        , 0.        ,\n",
       "        0.        , 0.        , 0.        , 0.        , 0.        ,\n",
       "        0.        , 0.        , 0.        , 0.        , 0.        ,\n",
       "        0.        , 0.        , 0.        , 0.        , 0.        ,\n",
       "        0.        , 0.        , 0.        , 0.        , 0.        ,\n",
       "        0.        , 0.        , 0.        , 0.        , 0.        ,\n",
       "        0.        , 0.        , 0.        , 0.        , 0.        ,\n",
       "        0.        , 0.        , 0.        , 0.        , 0.57735027,\n",
       "        0.        , 0.        , 0.        , 0.        , 0.        ,\n",
       "        0.        , 0.        , 0.        , 0.        , 0.        ,\n",
       "        0.        , 0.        , 0.        , 0.        , 0.57735027,\n",
       "        0.        , 0.        , 0.        , 0.        ]])"
      ]
     },
     "execution_count": 20,
     "metadata": {},
     "output_type": "execute_result"
    }
   ],
   "source": [
    "tfidf.transform([\"Indian Ocean was hit by tsunamis\"]).toarray()"
   ]
  },
  {
   "cell_type": "code",
   "execution_count": 21,
   "metadata": {},
   "outputs": [],
   "source": [
    "from sklearn.metrics.pairwise import cosine_similarity\n",
    "similarity = cosine_similarity(tfidf.transform([\"Indian Ocean was hit by tsunamis\"]).toarray(),\n",
    " tfidf.transform([\"The Indian Ocean experienced tsunamis.\"]).toarray())"
   ]
  },
  {
   "cell_type": "code",
   "execution_count": 22,
   "metadata": {},
   "outputs": [
    {
     "name": "stdout",
     "output_type": "stream",
     "text": [
      "[[0.61237244]]\n"
     ]
    }
   ],
   "source": [
    "print(similarity)"
   ]
  },
  {
   "cell_type": "code",
   "execution_count": null,
   "metadata": {},
   "outputs": [],
   "source": []
  }
 ],
 "metadata": {
  "kernelspec": {
   "display_name": "Python 3",
   "language": "python",
   "name": "python3"
  },
  "language_info": {
   "codemirror_mode": {
    "name": "ipython",
    "version": 3
   },
   "file_extension": ".py",
   "mimetype": "text/x-python",
   "name": "python",
   "nbconvert_exporter": "python",
   "pygments_lexer": "ipython3",
   "version": "3.8.8"
  },
  "vscode": {
   "interpreter": {
    "hash": "8754cf6e36a979646f1121cb2c487dd5af224c5a00bc0ec56c7f22f8c891038b"
   }
  }
 },
 "nbformat": 4,
 "nbformat_minor": 2
}
